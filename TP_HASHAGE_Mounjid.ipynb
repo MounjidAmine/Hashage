{
 "cells": [
  {
   "cell_type": "code",
   "execution_count": 3,
   "id": "4bc83fc0-2da7-4c1e-a2e3-b0004ba4a75d",
   "metadata": {},
   "outputs": [
    {
     "name": "stdout",
     "output_type": "stream",
     "text": [
      "Les hashs ont été sauvegardés dans 'hashes.csv'.\n"
     ]
    }
   ],
   "source": [
    "#Exercice 1\n",
    "\n",
    "import hashlib\n",
    "import csv\n",
    "\n",
    "strings = [\n",
    "    \"data\",\"security\",\"aya\",\"laadaili\",\"dsbd\",\"master\",\"fsbm\",\"tp\",\"atelier\",\"hello\",\"world\", \"hashing\",\"example\",\"computer\",\"programming\",\"algorithm\",\"encryption\",\"network\",\"internet\",\"database\",\"software\",\"hardware\",\"keyboard\",\"mouse\",\"monitor\",\"printer\",\"scanner\",\"router\",\"firewall\",\"server\", \"client\",\"cloud\",\"virtualization\",\"machine\",\"learning\",\"artificial\",\"intelligence\",\"datacenter\",\"architecture\",\"operating\",\"system\",\"windows\",\"linux\",\"macos\",\"android\", \"ios\", \"java\", \"javascript\", \"python\", \"c++\", \"php\", \"html\", \"css\", \"sql\", \"mongodb\", \"postgresql\", \"mysql\", \"oracle\", \"nosql\", \"redis\", \"docker\", \"kubernetes\", \"jenkins\", \"gitlab\", \"github\", \"bitbucket\", \"agile\", \"scrum\", \"kanban\", \"devops\", \"automation\", \"continuous\", \"integration\", \"deployment\", \"testing\", \"debugging\", \"performance\", \"optimization\", \"security\", \"vulnerability\", \"patching\", \"backup\", \"recovery\", \"monitoring\", \"logging\", \"auditing\", \"compliance\", \"regulation\", \"privacy\", \"gdpr\", \"ccpa\", \"hipaa\", \"pci-dss\", \"iso27001\", \"nist\", \"cybersecurity\", \"penetration\", \"testing\", \"incident\", \"response\", \"malware\", \"phishing\", \"ransomware\", \"social\", \"engineering\", \"firewall\", \"vpn\"\n",
    "    ]\n",
    "\n",
    "with open('hashs.csv', 'w', newline='') as csvfile:\n",
    "    fieldnames = ['string', 'sha256_hash']\n",
    "    writer = csv.DictWriter(csvfile, fieldnames=fieldnames)\n",
    "    writer.writeheader()\n",
    "\n",
    "    for string in strings:\n",
    "        sha256_hash = hashlib.sha256(string.encode()).hexdigest()\n",
    "        writer.writerow({'string': string, 'sha256_hash': sha256_hash})\n",
    "\n",
    "print(\"Les hashs ont été sauvegardés dans 'hashes.csv'.\")\n"
   ]
  },
  {
   "cell_type": "code",
   "execution_count": 4,
   "id": "2063c08a-c781-46fd-baf9-7beb7ce49b6c",
   "metadata": {},
   "outputs": [
    {
     "name": "stdout",
     "output_type": "stream",
     "text": [
      "Les mots de passe hachés ont été sauvegardés dans 'hashed_passwords.csv'.\n"
     ]
    }
   ],
   "source": [
    "#Exercice 2\n",
    "import bcrypt\n",
    "import csv\n",
    "\n",
    "passwords = [\n",
    "    \"aya\",\"aya123\",\"laadaili\",\"laadaili123\",\"exercice2\",\"dsbd\",\"master\",\"fsbm\",\"datasecurity\",\"motdepasse\",\n",
    "]\n",
    "hashed_passwords = {}\n",
    "for password in passwords:\n",
    "    hashed_password = bcrypt.hashpw(password.encode(), bcrypt.gensalt())\n",
    "    hashed_passwords[password] = hashed_password.decode()\n",
    "with open('hashed_passwords.csv', 'w', newline='') as csvfile:\n",
    "    fieldnames = ['password', 'hashed_password']\n",
    "    writer = csv.DictWriter(csvfile, fieldnames=fieldnames)\n",
    "    writer.writeheader()\n",
    "\n",
    "    for password, hashed_password in hashed_passwords.items():\n",
    "        writer.writerow({'password': password, 'hashed_password': hashed_password})\n",
    "\n",
    "print(\"Les mots de passe hachés ont été sauvegardés dans 'hashed_passwords.csv'.\")\n"
   ]
  },
  {
   "cell_type": "code",
   "execution_count": 5,
   "id": "9f2b77cc-97d3-453b-b0df-98c166230404",
   "metadata": {},
   "outputs": [
    {
     "name": "stdout",
     "output_type": "stream",
     "text": [
      "Doublons de mots de passe hachés:\n",
      "[]\n"
     ]
    }
   ],
   "source": [
    "#Exercice 3\n",
    "import csv\n",
    "\n",
    "# Fonction pour comparer les hashs de deux chaînes\n",
    "def comparer_hashes(hash1, hash2):\n",
    "    return hash1 == hash2\n",
    "\n",
    "# Charger les mots de passe hachés depuis les fichiers CSV\n",
    "with open('hashs.csv', 'r') as csvfile:\n",
    "    reader = csv.DictReader(csvfile)\n",
    "    hashs_exercice1 = [row['sha256_hash'] for row in reader]\n",
    "\n",
    "with open('hashed_passwords.csv', 'r') as csvfile:\n",
    "    reader = csv.DictReader(csvfile)\n",
    "    mots_de_passe_hashes_exercice2 = [row['hashed_password'] for row in reader]\n",
    "\n",
    "# Comparer les hashs et trouver les doublons\n",
    "doublons = []\n",
    "for hash1 in hashs_exercice1:\n",
    "    for hash2 in mots_de_passe_hashes_exercice2:\n",
    "        if comparer_hashes(hash1, hash2):\n",
    "            doublons.append(hash1)\n",
    "\n",
    "print(\"Doublons de mots de passe hachés:\")\n",
    "print(doublons)\n",
    "\n"
   ]
  }
 ],
 "metadata": {
  "kernelspec": {
   "display_name": "Python 3 (ipykernel)",
   "language": "python",
   "name": "python3"
  },
  "language_info": {
   "codemirror_mode": {
    "name": "ipython",
    "version": 3
   },
   "file_extension": ".py",
   "mimetype": "text/x-python",
   "name": "python",
   "nbconvert_exporter": "python",
   "pygments_lexer": "ipython3",
   "version": "3.9.18"
  }
 },
 "nbformat": 4,
 "nbformat_minor": 5
}
